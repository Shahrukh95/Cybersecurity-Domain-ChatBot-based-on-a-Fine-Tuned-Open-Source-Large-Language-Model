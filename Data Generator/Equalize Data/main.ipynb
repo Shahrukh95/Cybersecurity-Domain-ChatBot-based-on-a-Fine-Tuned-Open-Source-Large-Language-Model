{
 "cells": [
  {
   "cell_type": "code",
   "execution_count": 1,
   "metadata": {},
   "outputs": [
    {
     "name": "stdout",
     "output_type": "stream",
     "text": [
      "Files created successfully.\n"
     ]
    }
   ],
   "source": [
    "import json\n",
    "\n",
    "# Load the dataset\n",
    "with open('combined_cve_data.json', 'r') as file:\n",
    "    data = json.load(file)\n",
    "\n",
    "# Extract the items for each platform\n",
    "android_items = data[:600]\n",
    "ios_items = data[1383:1383+600]\n",
    "windows_items = data[1383+628:1383+628+600]\n",
    "# web_items = data[1383+628+1666:1383+628+1666+600]\n",
    "\n",
    "# Save to new JSON files\n",
    "with open('android_600_items.json', 'w') as file:\n",
    "    json.dump(android_items, file, indent=4)\n",
    "\n",
    "with open('windows_600_items.json', 'w') as file:\n",
    "    json.dump(windows_items, file, indent=4)\n",
    "\n",
    "# with open('web_600_items.json', 'w') as file:\n",
    "#     json.dump(web_items, file, indent=4)\n",
    "\n",
    "print(\"Files created successfully.\")\n"
   ]
  }
 ],
 "metadata": {
  "kernelspec": {
   "display_name": "data-env",
   "language": "python",
   "name": "python3"
  },
  "language_info": {
   "codemirror_mode": {
    "name": "ipython",
    "version": 3
   },
   "file_extension": ".py",
   "mimetype": "text/x-python",
   "name": "python",
   "nbconvert_exporter": "python",
   "pygments_lexer": "ipython3",
   "version": "3.11.5"
  }
 },
 "nbformat": 4,
 "nbformat_minor": 2
}
