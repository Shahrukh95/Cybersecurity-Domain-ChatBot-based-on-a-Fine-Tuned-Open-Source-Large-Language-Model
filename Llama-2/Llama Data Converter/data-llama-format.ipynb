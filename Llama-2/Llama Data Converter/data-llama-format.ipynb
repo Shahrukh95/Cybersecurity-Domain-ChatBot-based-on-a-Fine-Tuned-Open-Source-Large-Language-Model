{
 "cells": [
  {
   "cell_type": "code",
   "execution_count": 3,
   "metadata": {},
   "outputs": [],
   "source": [
    "import csv\n",
    "\n",
    "def transform_text(original_text):\n",
    "    # Find the position of the '<assistant>:' tag\n",
    "    assistant_pos = original_text.find('<assistant>:')\n",
    "    if assistant_pos == -1:\n",
    "        return original_text  # Return original if the format is not as expected\n",
    "\n",
    "    # Extract question and answer\n",
    "    question = original_text[len('<human>: '):assistant_pos].strip()\n",
    "    answer = original_text[assistant_pos + len('<assistant>: '):].strip()\n",
    "\n",
    "    # Format into the new structure\n",
    "    transformed = f\"<s>[INST] {question} [/INST] {answer} </s>\"\n",
    "    return transformed\n",
    "\n",
    "def process_csv(input_file, output_file):\n",
    "    with open(input_file, 'r', newline='', encoding='utf-8') as infile, \\\n",
    "         open(output_file, 'w', newline='', encoding='utf-8') as outfile:\n",
    "\n",
    "        reader = csv.DictReader(infile)\n",
    "        fieldnames = ['text']  # Assuming 'text' is the only field\n",
    "        writer = csv.DictWriter(outfile, fieldnames=fieldnames)\n",
    "\n",
    "        writer.writeheader()\n",
    "\n",
    "        for row in reader:\n",
    "            # Skip the header row\n",
    "            if row['text'].startswith('<human>:'):\n",
    "                transformed_text = transform_text(row['text'])\n",
    "                writer.writerow({'text': transformed_text})\n",
    "\n",
    "# Replace 'input.csv' and 'output.csv' with your actual file names\n",
    "process_csv('instruct-data.csv', 'llama-instruct-data.csv')\n"
   ]
  }
 ],
 "metadata": {
  "kernelspec": {
   "display_name": "llama2-env",
   "language": "python",
   "name": "python3"
  },
  "language_info": {
   "codemirror_mode": {
    "name": "ipython",
    "version": 3
   },
   "file_extension": ".py",
   "mimetype": "text/x-python",
   "name": "python",
   "nbconvert_exporter": "python",
   "pygments_lexer": "ipython3",
   "version": "3.11.5"
  }
 },
 "nbformat": 4,
 "nbformat_minor": 2
}
