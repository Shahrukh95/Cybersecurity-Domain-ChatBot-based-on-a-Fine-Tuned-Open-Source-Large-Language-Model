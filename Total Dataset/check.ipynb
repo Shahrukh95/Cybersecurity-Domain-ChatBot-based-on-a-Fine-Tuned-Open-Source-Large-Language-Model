{
 "cells": [
  {
   "cell_type": "code",
   "execution_count": 5,
   "metadata": {},
   "outputs": [
    {
     "name": "stdout",
     "output_type": "stream",
     "text": [
      "Average number of words in questions: 8.763509982230584\n",
      "Estimated average number of tokens in questions: 6.572632486672938\n",
      "Average number of words in answers: 35.47768370440054\n",
      "Estimated average number of tokens in answers: 26.608262778300407\n"
     ]
    }
   ],
   "source": [
    "import pandas as pd\n",
    "import numpy as np\n",
    "\n",
    "def count_words(text):\n",
    "    words = text.split()\n",
    "    return len(words)\n",
    "\n",
    "def main():\n",
    "    # Replace 'yourfile.xlsx' with the path to your Excel file\n",
    "    file_path = 'all-data.xlsx'\n",
    "    df = pd.read_excel(file_path)\n",
    "\n",
    "    # Assuming the first column contains questions and the second contains answers\n",
    "    questions, answers = df.iloc[:, 0], df.iloc[:, 1]\n",
    "\n",
    "    avg_words_questions = np.mean(questions.apply(count_words))\n",
    "    avg_tokens_questions = avg_words_questions * (75 / 100)\n",
    "\n",
    "    avg_words_answers = np.mean(answers.apply(count_words))\n",
    "    avg_tokens_answers = avg_words_answers * (75 / 100)\n",
    "\n",
    "    print(f\"Average number of words in questions: {avg_words_questions}\")\n",
    "    print(f\"Estimated average number of tokens in questions: {avg_tokens_questions}\")\n",
    "    print(f\"Average number of words in answers: {avg_words_answers}\")\n",
    "    print(f\"Estimated average number of tokens in answers: {avg_tokens_answers}\")\n",
    "\n",
    "if __name__ == \"__main__\":\n",
    "    main()\n"
   ]
  }
 ],
 "metadata": {
  "kernelspec": {
   "display_name": "pair-data-env",
   "language": "python",
   "name": "python3"
  },
  "language_info": {
   "codemirror_mode": {
    "name": "ipython",
    "version": 3
   },
   "file_extension": ".py",
   "mimetype": "text/x-python",
   "name": "python",
   "nbconvert_exporter": "python",
   "pygments_lexer": "ipython3",
   "version": "3.8.10"
  }
 },
 "nbformat": 4,
 "nbformat_minor": 2
}
