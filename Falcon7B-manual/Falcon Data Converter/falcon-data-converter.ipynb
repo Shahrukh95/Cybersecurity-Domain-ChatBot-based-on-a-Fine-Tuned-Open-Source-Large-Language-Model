{
 "cells": [
  {
   "cell_type": "code",
   "execution_count": 1,
   "metadata": {},
   "outputs": [],
   "source": [
    "import csv\n",
    "\n",
    "def transform_text(original_text):\n",
    "    # Find the position of the '<assistant>:' tag\n",
    "    assistant_pos = original_text.find('<assistant>:')\n",
    "    if assistant_pos == -1:\n",
    "        return original_text  # Return original if the format is not as expected\n",
    "\n",
    "    # Extract question and answer\n",
    "    question = original_text[len('<human>: '):assistant_pos].strip()\n",
    "    answer = original_text[assistant_pos + len('<assistant>: '):].strip()\n",
    "\n",
    "    # Format into the new structure with <HUMAN> and <ASSISTANT>, including a newline\n",
    "    transformed = f\"<HUMAN>: {question}\\n<ASSISTANT>: {answer}\"\n",
    "    return transformed\n",
    "\n",
    "def process_csv(input_file, output_file):\n",
    "    with open(input_file, 'r', newline='', encoding='utf-8') as infile, \\\n",
    "         open(output_file, 'w', newline='', encoding='utf-8') as outfile:\n",
    "\n",
    "        reader = csv.DictReader(infile)\n",
    "        fieldnames = ['text']  # Assuming 'text' is the only field\n",
    "        writer = csv.DictWriter(outfile, fieldnames=fieldnames)\n",
    "\n",
    "        writer.writeheader()\n",
    "\n",
    "        for row in reader:\n",
    "            # Skip the header row\n",
    "            if row['text'].startswith('<human>:'):\n",
    "                transformed_text = transform_text(row['text'])\n",
    "                writer.writerow({'text': transformed_text})\n",
    "\n",
    "# Replace 'input.csv' and 'output.csv' with your actual file names\n",
    "process_csv('instruct-data.csv', 'falcon-instruct-data.csv')\n"
   ]
  },
  {
   "cell_type": "markdown",
   "metadata": {},
   "source": [
    "#Confirm if the format is correct"
   ]
  },
  {
   "cell_type": "code",
   "execution_count": 2,
   "metadata": {},
   "outputs": [],
   "source": [
    "import torch\n",
    "from datasets import load_dataset\n",
    "from transformers import AutoModelForCausalLM, AutoTokenizer, BitsAndBytesConfig, TrainingArguments, GenerationConfig\n",
    "from peft import LoraConfig, get_peft_model, PeftConfig, PeftModel, prepare_model_for_kbit_training\n",
    "from trl import SFTTrainer\n",
    "import warnings\n",
    "warnings.filterwarnings(\"ignore\")"
   ]
  },
  {
   "cell_type": "code",
   "execution_count": 3,
   "metadata": {},
   "outputs": [
    {
     "name": "stdout",
     "output_type": "stream",
     "text": [
      "<HUMAN>: What is a panic attack?\n",
      "<ASSISTANT>: Panic attacks come on suddenly and involve intense and often overwhelming fear. They’re accompanied by very challenging physical symptoms, like a racing heartbeat, shortness of breath, or nausea. Unexpected panic attacks occur without an obvious cause. Expected panic attacks are cued by external stressors, like phobias. Panic attacks can happen to anyone, but having more than one may be a sign of panic disorder, a mental health condition characterized by sudden and repeated panic attacks.\n"
     ]
    }
   ],
   "source": [
    "data = load_dataset(\"ZahrizhalAli/mental_health_conversational_dataset\")\n",
    "data\n",
    "\n",
    "# Take a Glance on how the data looks like \n",
    "print(data[\"train\"][0]['text'])"
   ]
  },
  {
   "cell_type": "code",
   "execution_count": 4,
   "metadata": {},
   "outputs": [
    {
     "data": {
      "application/vnd.jupyter.widget-view+json": {
       "model_id": "cae6c9edbb3c4df18a855e078b234f4f",
       "version_major": 2,
       "version_minor": 0
      },
      "text/plain": [
       "Downloading data files:   0%|          | 0/1 [00:00<?, ?it/s]"
      ]
     },
     "metadata": {},
     "output_type": "display_data"
    },
    {
     "data": {
      "application/vnd.jupyter.widget-view+json": {
       "model_id": "839af8726d2f461499caf1d69ab656da",
       "version_major": 2,
       "version_minor": 0
      },
      "text/plain": [
       "Extracting data files:   0%|          | 0/1 [00:00<?, ?it/s]"
      ]
     },
     "metadata": {},
     "output_type": "display_data"
    },
    {
     "data": {
      "application/vnd.jupyter.widget-view+json": {
       "model_id": "6ce4351599464b37a05e90e96d56d38f",
       "version_major": 2,
       "version_minor": 0
      },
      "text/plain": [
       "Generating train split: 0 examples [00:00, ? examples/s]"
      ]
     },
     "metadata": {},
     "output_type": "display_data"
    },
    {
     "name": "stdout",
     "output_type": "stream",
     "text": [
      "<HUMAN>: What are the top 10 API security risks listed in the OWASP 2023 report, and can you provide a brief description of each?\n",
      "<ASSISTANT>: The OWASP Top 10 API Security Risks for 2023 are as follows:\n",
      "\n",
      "API1:2023 Broken Object Level Authorization - This risk involves insufficient controls at the object level which allows unauthorized users to access or modify data.\n",
      "\n",
      "API2:2023 Broken Authentication - This pertains to vulnerabilities in the authentication mechanisms, allowing attackers to assume other users' identities.\n",
      "\n",
      "API3:2023 Broken Object Property Level Authorization - Similar to object level authorization but more specific to the properties of objects, where users can access or modify properties without proper authorization.\n",
      "\n",
      "API4:2023 Unrestricted Resource Consumption - This risk involves the API allowing uncontrolled consumption of resources, which can lead to denial of service (DoS) attacks.\n",
      "\n",
      "API5:2023 Broken Function Level Authorization - This occurs when function level permissions are misconfigured or poorly enforced, allowing users to perform actions beyond their permissions.\n",
      "\n",
      "API6:2023 Unrestricted Access to Sensitive Business Flows - This risk refers to insufficient protections around sensitive business processes, which can lead to unauthorized access or manipulation.\n",
      "\n",
      "API7:2023 Server Side Request Forgery (SSRF) - SSRF vulnerabilities enable an attacker to induce the server to make requests to unintended locations, potentially exposing sensitive data.\n",
      "\n",
      "API8:2023 Security Misconfiguration - This covers a broad range of issues resulting from insecure default configurations, incomplete configurations, or misconfigured HTTP headers, among others.\n",
      "\n",
      "API9:2023 Improper Inventory Management - This involves failing to keep track of all the APIs and their versions, which can lead to outdated or forgotten APIs becoming a security risk.\n",
      "\n",
      "API10:2023 Unsafe Consumption of APIs - This risk is about consuming APIs in an unsafe manner, such as failing to validate inputs or secure data transmission, which can lead to various security vulnerabilities.\n"
     ]
    }
   ],
   "source": [
    "from datasets import load_dataset\n",
    "\n",
    "# Load the dataset from the formatted CSV file\n",
    "data = load_dataset('csv', data_files='falcon-instruct-data.csv')\n",
    "# dataset = load_dataset('csv', data_files='owasp-formatted.csv')\n",
    "\n",
    "# Accessing the dataset\n",
    "# print(repr(data[0]['text']))  # Print the first row of the dataset\n",
    "# print(repr(data[\"train\"][0]['text']))\n",
    "print(data[\"train\"][0]['text'])"
   ]
  },
  {
   "cell_type": "code",
   "execution_count": null,
   "metadata": {},
   "outputs": [],
   "source": []
  }
 ],
 "metadata": {
  "kernelspec": {
   "display_name": "manual_py_3_8_env",
   "language": "python",
   "name": "python3"
  },
  "language_info": {
   "codemirror_mode": {
    "name": "ipython",
    "version": 3
   },
   "file_extension": ".py",
   "mimetype": "text/x-python",
   "name": "python",
   "nbconvert_exporter": "python",
   "pygments_lexer": "ipython3",
   "version": "3.8.10"
  }
 },
 "nbformat": 4,
 "nbformat_minor": 2
}
