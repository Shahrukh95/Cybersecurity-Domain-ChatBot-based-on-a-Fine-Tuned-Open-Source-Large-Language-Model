{
 "cells": [
  {
   "cell_type": "code",
   "execution_count": 1,
   "metadata": {},
   "outputs": [],
   "source": [
    "import os\n",
    "\n",
    "# Set the CUDA_VISIBLE_DEVICES environment variable\n",
    "os.environ[\"CUDA_VISIBLE_DEVICES\"] = \"MIG-a4a538a2-a199-58d8-9e56-ed86db02edf8\""
   ]
  },
  {
   "cell_type": "code",
   "execution_count": 2,
   "metadata": {},
   "outputs": [
    {
     "name": "stdout",
     "output_type": "stream",
     "text": [
      "/home/sahsan/PythonProjects/pytorch/Falcon-7B/manual_py_3_8_env/bin/python\n"
     ]
    }
   ],
   "source": [
    "import sys\n",
    "print(sys.executable)\n"
   ]
  },
  {
   "cell_type": "code",
   "execution_count": 3,
   "metadata": {},
   "outputs": [
    {
     "name": "stdout",
     "output_type": "stream",
     "text": [
      "Using device: cuda\n"
     ]
    }
   ],
   "source": [
    "import torch\n",
    "torch.cuda.is_available()\n",
    "device = torch.device(\"cuda\" if torch.cuda.is_available() else \"cpu\")\n",
    "print(f\"Using device: {device}\")"
   ]
  },
  {
   "cell_type": "code",
   "execution_count": 4,
   "metadata": {},
   "outputs": [],
   "source": [
    "import torch\n",
    "from datasets import load_dataset\n",
    "from transformers import AutoModelForCausalLM, AutoTokenizer, BitsAndBytesConfig, TrainingArguments, GenerationConfig\n",
    "from peft import LoraConfig, get_peft_model, PeftConfig, PeftModel, prepare_model_for_kbit_training\n",
    "from trl import SFTTrainer\n",
    "import warnings\n",
    "warnings.filterwarnings(\"ignore\")"
   ]
  },
  {
   "cell_type": "code",
   "execution_count": 5,
   "metadata": {},
   "outputs": [
    {
     "data": {
      "application/vnd.jupyter.widget-view+json": {
       "model_id": "67c989d7371040fa9c0298d2faabc51d",
       "version_major": 2,
       "version_minor": 0
      },
      "text/plain": [
       "VBox(children=(HTML(value='<center> <img\\nsrc=https://huggingface.co/front/assets/huggingface_logo-noborder.sv…"
      ]
     },
     "metadata": {},
     "output_type": "display_data"
    }
   ],
   "source": [
    "from huggingface_hub import notebook_login\n",
    "notebook_login()"
   ]
  },
  {
   "cell_type": "code",
   "execution_count": 6,
   "metadata": {},
   "outputs": [
    {
     "data": {
      "application/vnd.jupyter.widget-view+json": {
       "model_id": "2c79319566d94615842f4306cb05fb08",
       "version_major": 2,
       "version_minor": 0
      },
      "text/plain": [
       "Downloading data files:   0%|          | 0/1 [00:00<?, ?it/s]"
      ]
     },
     "metadata": {},
     "output_type": "display_data"
    },
    {
     "data": {
      "application/vnd.jupyter.widget-view+json": {
       "model_id": "9adafa45a7ea486d97d429b0c31a173c",
       "version_major": 2,
       "version_minor": 0
      },
      "text/plain": [
       "Extracting data files:   0%|          | 0/1 [00:00<?, ?it/s]"
      ]
     },
     "metadata": {},
     "output_type": "display_data"
    },
    {
     "data": {
      "application/vnd.jupyter.widget-view+json": {
       "model_id": "bffd6d1e43524ad08b135ad77ced2a0e",
       "version_major": 2,
       "version_minor": 0
      },
      "text/plain": [
       "Generating train split: 0 examples [00:00, ? examples/s]"
      ]
     },
     "metadata": {},
     "output_type": "display_data"
    },
    {
     "name": "stdout",
     "output_type": "stream",
     "text": [
      "'<HUMAN>: What is the second OWASP 2023 Top 10 API vulnerability?\\n<ASSISTANT>: The second OWASP 2023 Top 10 API vulnerability is \"Broken Authentication.\" It occurs when an application\\'s authentication processes are poorly implemented, making it possible for attackers to compromise user credentials or session tokens, and assume other users\\' identities.'\n"
     ]
    }
   ],
   "source": [
    "from datasets import load_dataset\n",
    "\n",
    "# Load the dataset from the formatted CSV file\n",
    "data = load_dataset('csv', data_files='falcon-instruct-data.csv')\n",
    "\n",
    "# Check a row of the dataset\n",
    "print(repr(data[\"train\"][2]['text']))"
   ]
  },
  {
   "cell_type": "markdown",
   "metadata": {},
   "source": [
    "Load the Pre-trained Model"
   ]
  },
  {
   "cell_type": "code",
   "execution_count": 6,
   "metadata": {},
   "outputs": [
    {
     "name": "stderr",
     "output_type": "stream",
     "text": [
      "\n",
      "WARNING: You are currently loading Falcon using legacy code contained in the model repository. Falcon has now been fully ported into the Hugging Face transformers library. For the most up-to-date and high-performance version of the Falcon model code, please update to the latest version of transformers and then load the model without the trust_remote_code=True argument.\n",
      "\n"
     ]
    },
    {
     "data": {
      "application/vnd.jupyter.widget-view+json": {
       "model_id": "52bc99ac16d64abca4328913532a8142",
       "version_major": 2,
       "version_minor": 0
      },
      "text/plain": [
       "Loading checkpoint shards:   0%|          | 0/2 [00:00<?, ?it/s]"
      ]
     },
     "metadata": {},
     "output_type": "display_data"
    }
   ],
   "source": [
    "model_name = \"tiiuae/falcon-7b\"\n",
    "\n",
    "bnb_config = BitsAndBytesConfig(\n",
    "    load_in_4bit=True,            # load model in 4-bit precision\n",
    "    bnb_4bit_quant_type=\"nf4\",    # pre-trained model should be quantized in 4-bit NF format\n",
    "    # bnb_4bit_use_double_quant=True, # Double quantization not required\n",
    "    bnb_4bit_use_double_quant=False,\n",
    "    bnb_4bit_compute_dtype=torch.bfloat16, # During computation, pre-trained model should be loaded in BF16 format\n",
    ")\n",
    "\n",
    "model = AutoModelForCausalLM.from_pretrained(\n",
    "    model_name,\n",
    "    quantization_config=bnb_config, # Use bitsandbytes config\n",
    "    device_map=\"auto\",  # Specifying device_map=\"auto\" so that HF Accelerate will determine which GPU to put each layer of the model on\n",
    "    trust_remote_code=True, # Set trust_remote_code=True to use falcon-7b model with custom code\n",
    ")"
   ]
  },
  {
   "cell_type": "code",
   "execution_count": 7,
   "metadata": {},
   "outputs": [],
   "source": [
    "tokenizer = AutoTokenizer.from_pretrained(model_name, trust_remote_code=True) # Set trust_remote_code=True\n",
    "tokenizer.pad_token = tokenizer.eos_token # Setting pad_token same as eos_token"
   ]
  },
  {
   "cell_type": "markdown",
   "metadata": {},
   "source": [
    "PEFT (Parameter Efficient Fine Tuning) and QLoRA"
   ]
  },
  {
   "cell_type": "code",
   "execution_count": 8,
   "metadata": {},
   "outputs": [],
   "source": [
    "model = prepare_model_for_kbit_training(model)\n",
    "\n",
    "lora_alpha = 16 # scaling factor for the weight matrices\n",
    "lora_dropout = 0.05 # dropout probability of the LoRA layers\n",
    "lora_rank = 96 # dimension of the low-rank matrices\n",
    "\n",
    "peft_config = LoraConfig(\n",
    "    lora_alpha=lora_alpha,\n",
    "    lora_dropout=lora_dropout,\n",
    "    r=lora_rank,\n",
    "    bias=\"none\",  # setting to 'none' for only training weight params instead of biases\n",
    "    task_type=\"CAUSAL_LM\",\n",
    "    target_modules=[         # Setting names of modules in falcon-7b model that we want to apply LoRA to\n",
    "        \"query_key_value\",\n",
    "        \"dense\",\n",
    "        \"dense_h_to_4h\",\n",
    "        \"dense_4h_to_h\",\n",
    "    ]\n",
    ")\n",
    "\n",
    "peft_model = get_peft_model(model, peft_config)"
   ]
  },
  {
   "cell_type": "code",
   "execution_count": 11,
   "metadata": {},
   "outputs": [],
   "source": [
    "output_dir = \"./models/falcon-7b-Set-1-cybersecurity-layered-config\"\n",
    "per_device_train_batch_size = 8 # reduce batch size by 2x if out-of-memory error\n",
    "gradient_accumulation_steps = 1  # increase gradient accumulation steps by 2x if batch size is reduced\n",
    "optim = \"paged_adamw_32bit\" # activates the paging for better memory management\n",
    "save_strategy=\"steps\" # checkpoint save strategy to adopt during training\n",
    "save_steps = 9000 # number of updates steps before two checkpoint saves\n",
    "logging_steps = 359  # number of update steps between two logs if logging_strategy=\"steps\"\n",
    "learning_rate = 3e-4  # learning rate for AdamW optimizer\n",
    "max_grad_norm = 1 # maximum gradient norm (for gradient clipping)\n",
    "max_steps = -1    # training will happen for auto steps\n",
    "warmup_ratio = 0.03 # number of steps used for a linear warmup from 0 to learning_rate\n",
    "lr_scheduler_type = \"constant\"  # learning rate scheduler\n",
    "\n",
    "\n",
    "training_arguments = TrainingArguments(\n",
    "    output_dir=output_dir,\n",
    "    num_train_epochs=15,\n",
    "    per_device_train_batch_size=per_device_train_batch_size,\n",
    "    gradient_accumulation_steps=gradient_accumulation_steps,\n",
    "    optim=optim,\n",
    "    save_steps=save_steps,\n",
    "    logging_steps=logging_steps,\n",
    "    learning_rate=learning_rate,\n",
    "    weight_decay = 0, #Regularization\n",
    "    fp16=False,\n",
    "    bf16=False,\n",
    "    tf32=False,\n",
    "    max_grad_norm=max_grad_norm,\n",
    "    max_steps=max_steps,\n",
    "    warmup_ratio=warmup_ratio,\n",
    "    group_by_length=True,\n",
    "    lr_scheduler_type=lr_scheduler_type,\n",
    ")"
   ]
  },
  {
   "cell_type": "code",
   "execution_count": 12,
   "metadata": {},
   "outputs": [
    {
     "data": {
      "application/vnd.jupyter.widget-view+json": {
       "model_id": "a5a9057f59f34503b54db9f3829f8d0a",
       "version_major": 2,
       "version_minor": 0
      },
      "text/plain": [
       "Map:   0%|          | 0/19134 [00:00<?, ? examples/s]"
      ]
     },
     "metadata": {},
     "output_type": "display_data"
    }
   ],
   "source": [
    "trainer = SFTTrainer(\n",
    "    model=peft_model,\n",
    "    train_dataset=data['train'],\n",
    "    peft_config=peft_config,\n",
    "    dataset_text_field=\"text\",\n",
    "    max_seq_length=1024, #1024 default. This is a calculated value\n",
    "    tokenizer=tokenizer,\n",
    "    args=training_arguments,\n",
    ")\n",
    "\n",
    "for name, module in trainer.model.named_modules():\n",
    "    if \"norm\" in name:\n",
    "        module = module.to(torch.float32)"
   ]
  },
  {
   "cell_type": "code",
   "execution_count": null,
   "metadata": {},
   "outputs": [],
   "source": [
    "peft_model.config.use_cache = False\n",
    "trainer.train()\n",
    "# Output cleared (may take days to train depending on the dataset size)"
   ]
  },
  {
   "cell_type": "code",
   "execution_count": 14,
   "metadata": {},
   "outputs": [
    {
     "data": {
      "text/plain": [
       "('falcon-7b-Set-1-cybersecurity-layered-config/finished/tokenizer_config.json',\n",
       " 'falcon-7b-Set-1-cybersecurity-layered-config/finished/special_tokens_map.json',\n",
       " 'falcon-7b-Set-1-cybersecurity-layered-config/finished/tokenizer.json')"
      ]
     },
     "execution_count": 14,
     "metadata": {},
     "output_type": "execute_result"
    }
   ],
   "source": [
    "trainer.model.save_pretrained('falcon-7b-Set-1-cybersecurity-layered-config/finished')\n",
    "trainer.tokenizer.save_pretrained('falcon-7b-Set-1-cybersecurity-layered-config/finished')"
   ]
  },
  {
   "cell_type": "code",
   "execution_count": 15,
   "metadata": {},
   "outputs": [
    {
     "data": {
      "application/vnd.jupyter.widget-view+json": {
       "model_id": "0834a3ff49914645aefb5aaefb587540",
       "version_major": 2,
       "version_minor": 0
      },
      "text/plain": [
       "training_args.bin:   0%|          | 0.00/4.60k [00:00<?, ?B/s]"
      ]
     },
     "metadata": {},
     "output_type": "display_data"
    },
    {
     "data": {
      "application/vnd.jupyter.widget-view+json": {
       "model_id": "4a93ca1c18904be38fb86ffbd85e8c75",
       "version_major": 2,
       "version_minor": 0
      },
      "text/plain": [
       "adapter_model.bin:   0%|          | 0.00/783M [00:00<?, ?B/s]"
      ]
     },
     "metadata": {},
     "output_type": "display_data"
    },
    {
     "data": {
      "application/vnd.jupyter.widget-view+json": {
       "model_id": "a3c0b68290a14149815d64b94ed0e2ce",
       "version_major": 2,
       "version_minor": 0
      },
      "text/plain": [
       "Upload 2 LFS files:   0%|          | 0/2 [00:00<?, ?it/s]"
      ]
     },
     "metadata": {},
     "output_type": "display_data"
    },
    {
     "data": {
      "text/plain": [
       "'https://huggingface.co/shahrukh95/falcon-7b-Set-1-cybersecurity-layered-config/tree/main/'"
      ]
     },
     "execution_count": 15,
     "metadata": {},
     "output_type": "execute_result"
    }
   ],
   "source": [
    "# Push to your Hugging Face Hub account\n",
    "trainer.push_to_hub()"
   ]
  },
  {
   "cell_type": "markdown",
   "metadata": {},
   "source": [
    "Now Load the base model and begin to compare the results"
   ]
  },
  {
   "cell_type": "code",
   "execution_count": 6,
   "metadata": {},
   "outputs": [
    {
     "name": "stderr",
     "output_type": "stream",
     "text": [
      "\n",
      "WARNING: You are currently loading Falcon using legacy code contained in the model repository. Falcon has now been fully ported into the Hugging Face transformers library. For the most up-to-date and high-performance version of the Falcon model code, please update to the latest version of transformers and then load the model without the trust_remote_code=True argument.\n",
      "\n"
     ]
    },
    {
     "data": {
      "application/vnd.jupyter.widget-view+json": {
       "model_id": "e13983a84ec34759b8eb31ff86e01c85",
       "version_major": 2,
       "version_minor": 0
      },
      "text/plain": [
       "Loading checkpoint shards:   0%|          | 0/2 [00:00<?, ?it/s]"
      ]
     },
     "metadata": {},
     "output_type": "display_data"
    }
   ],
   "source": [
    "# Loading original model\n",
    "model_name = \"tiiuae/falcon-7b\"\n",
    "\n",
    "bnb_config = BitsAndBytesConfig(\n",
    "    load_in_4bit=True,\n",
    "    bnb_4bit_quant_type=\"nf4\",\n",
    "    bnb_4bit_use_double_quant=True,\n",
    "    bnb_4bit_compute_dtype=torch.float16,\n",
    ")\n",
    "\n",
    "model = AutoModelForCausalLM.from_pretrained(\n",
    "    model_name,\n",
    "    quantization_config=bnb_config,\n",
    "    device_map=\"auto\",\n",
    "    trust_remote_code=True,\n",
    ")\n",
    "\n",
    "tokenizer = AutoTokenizer.from_pretrained(model_name, trust_remote_code=True)\n",
    "tokenizer.pad_token = tokenizer.eos_token"
   ]
  },
  {
   "cell_type": "code",
   "execution_count": 6,
   "metadata": {},
   "outputs": [],
   "source": [
    "bnb_config = BitsAndBytesConfig(\n",
    "    load_in_4bit=True,\n",
    "    bnb_4bit_quant_type=\"nf4\",\n",
    "    bnb_4bit_use_double_quant=True,\n",
    "    bnb_4bit_compute_dtype=torch.float16,\n",
    ")"
   ]
  },
  {
   "cell_type": "code",
   "execution_count": 7,
   "metadata": {},
   "outputs": [
    {
     "name": "stderr",
     "output_type": "stream",
     "text": [
      "\n",
      "WARNING: You are currently loading Falcon using legacy code contained in the model repository. Falcon has now been fully ported into the Hugging Face transformers library. For the most up-to-date and high-performance version of the Falcon model code, please update to the latest version of transformers and then load the model without the trust_remote_code=True argument.\n",
      "\n"
     ]
    },
    {
     "data": {
      "application/vnd.jupyter.widget-view+json": {
       "model_id": "82e7f454d3b24444a679c54e7787565b",
       "version_major": 2,
       "version_minor": 0
      },
      "text/plain": [
       "Loading checkpoint shards:   0%|          | 0/2 [00:00<?, ?it/s]"
      ]
     },
     "metadata": {},
     "output_type": "display_data"
    }
   ],
   "source": [
    "# Loading PEFT model\n",
    "PEFT_MODEL = \"shahrukh95/falcon-7b-Set-1-cybersecurity-layered-config\"\n",
    "# PEFT_MODEL = <Username>/YOUR_MODEL_URL_REPO. \n",
    "\n",
    "config = PeftConfig.from_pretrained(PEFT_MODEL)\n",
    "peft_base_model = AutoModelForCausalLM.from_pretrained(\n",
    "    config.base_model_name_or_path,\n",
    "    return_dict=True,\n",
    "    quantization_config=bnb_config,\n",
    "    device_map=\"auto\",\n",
    "    trust_remote_code=True,\n",
    ")\n",
    "\n",
    "peft_model = PeftModel.from_pretrained(peft_base_model, PEFT_MODEL)\n",
    "\n",
    "peft_tokenizer = AutoTokenizer.from_pretrained(config.base_model_name_or_path)\n",
    "peft_tokenizer.pad_token = peft_tokenizer.eos_token"
   ]
  },
  {
   "cell_type": "markdown",
   "metadata": {},
   "source": [
    "Inferences"
   ]
  },
  {
   "cell_type": "code",
   "execution_count": 8,
   "metadata": {},
   "outputs": [],
   "source": [
    "# Given the model is fine-tuned for zero shot inference, I used a text-generation pipeline for inference. This type of pipeline is well-suited for models that have been trained in a conversational or question-answer format where the model generates an answer based solely on the input question.\n",
    "\n",
    "from datasets import load_dataset\n",
    "from transformers import (\n",
    "    pipeline,\n",
    "    logging\n",
    ")\n",
    "\n",
    "logging.set_verbosity(logging.CRITICAL)"
   ]
  },
  {
   "cell_type": "code",
   "execution_count": 9,
   "metadata": {},
   "outputs": [],
   "source": [
    "def extract_first_assistant_response(text):\n",
    "    # Splitting the text by the '<ASSISTANT>:' tag\n",
    "    parts = text.split(\"<ASSISTANT>:\")\n",
    "\n",
    "    # Checking if there is at least one response from the assistant\n",
    "    if len(parts) > 1:\n",
    "        # Returning the first response after trimming leading/trailing whitespaces\n",
    "        return parts[1].strip()\n",
    "\n",
    "    # Returning an empty string if there is no assistant response\n",
    "    return \"\""
   ]
  },
  {
   "cell_type": "markdown",
   "metadata": {},
   "source": [
    "An example answer of the fine-tuned model"
   ]
  },
  {
   "cell_type": "code",
   "execution_count": 10,
   "metadata": {},
   "outputs": [
    {
     "name": "stdout",
     "output_type": "stream",
     "text": [
      "<HUMAN>: Could you specify the baseline severity rating for CVE-2023-2971?\n",
      "<ASSISTANT>: The baseline severity rating for CVE-2023-2971 is 7.8, which is classified as HIGH. This reflects the fact that the vulnerability can lead to the theft of sensitive data, such as a database dump, and potentially also result in a loss of database integrity. It is important to note that the Base Score for CVE-2023-2971 has not been provided; it is listed as 'N/A' in the provided information. The severity rating would be determined by an official CVE database such as the National Vulnerability Database (NVD) or other trusted sources. Typically, a baseline severity rating is assigned by the CVE authorities to indicate the potential impact and exploitability of a vulnerability. It is crucial for security professionals to refer to these ratings when prioritizing their mitigation efforts.\n",
      "\n",
      "Additional Information\n",
      "\n",
      "For more information on CVE-2023-2971, you can visit the provided reference link: https://starlabs.sg/advisories/23/23-2971/index.html. This link leads to the Starlabs website where additional details and potential mitigation strategies may be discussed. It is recommended to refer to this resource for the latest updates and recommendations on addressing this vulnerability.\n",
      "\n",
      "Acknowledgments\n",
      "\n",
      "We would like to acknowledge the Starlabs team for creating the Starlabs Vulnerability Database and for providing the technical details on CVE-2023-2971. We also appreciate the numerous references provided, including security advisories on Packet Storm Security and vulnerability databases such as the VulDB and Exploit Database. References include:\n",
      "- https://starlabs.sg/advisories/23/23-2971/index.html\n",
      "- https://packetstormsecurity.com/files/172545/Starlabs-Vulnerability-Database-VulDB-Vulnerability-ID-2476147.html\n",
      "- https://packetstormsecurity.com/files/172550/Starlabs-Vulnerability-Database-VulDB-Vulnerability-ID-2476148.html\n",
      "- https://packetstormsecurity.com/files/172568/Starlabs-Vulnerability-Database-VulDB-Vulnerability-ID-2476154.html\n",
      "- https://starlabs.sg/exploits/expl\n"
     ]
    }
   ],
   "source": [
    "prompt = \"Could you specify the baseline severity rating for CVE-2023-2971?\"\n",
    "pipe = pipeline(task=\"text-generation\", model=peft_model, tokenizer=peft_tokenizer, max_length=512)\n",
    "result = pipe(f\"<HUMAN>: {prompt}\\n\")\n",
    "model_answer = result[0]['generated_text']\n",
    "print(model_answer)"
   ]
  },
  {
   "cell_type": "markdown",
   "metadata": {},
   "source": [
    "An issue here is that the model may generate multiple answers, so we will grab the first one."
   ]
  },
  {
   "cell_type": "code",
   "execution_count": 11,
   "metadata": {},
   "outputs": [
    {
     "name": "stdout",
     "output_type": "stream",
     "text": [
      "The baseline severity rating for CVE-2023-2971 is 7.8, which is classified as HIGH. This reflects the fact that the vulnerability can lead to the theft of sensitive data, such as a database dump, and potentially also result in a loss of database integrity. It is important to note that the Base Score for CVE-2023-2971 has not been provided; it is listed as 'N/A' in the provided information. The severity rating would be determined by an official CVE database such as the National Vulnerability Database (NVD) or other trusted sources. Typically, a baseline severity rating is assigned by the CVE authorities to indicate the potential impact and exploitability of a vulnerability. It is crucial for security professionals to refer to these ratings when prioritizing their mitigation efforts.\n",
      "\n",
      "Additional Information\n",
      "\n",
      "For more information on CVE-2023-2971, you can visit the provided reference link: https://starlabs.sg/advisories/23/23-2971/index.html. This link leads to the Starlabs website where additional details and potential mitigation strategies may be discussed. It is recommended to refer to this resource for the latest updates and recommendations on addressing this vulnerability.\n",
      "\n",
      "Acknowledgments\n",
      "\n",
      "We would like to acknowledge the Starlabs team for creating the Starlabs Vulnerability Database and for providing the technical details on CVE-2023-2971. We also appreciate the numerous references provided, including security advisories on Packet Storm Security and vulnerability databases such as the VulDB and Exploit Database. References include:\n",
      "- https://starlabs.sg/advisories/23/23-2971/index.html\n",
      "- https://packetstormsecurity.com/files/172545/Starlabs-Vulnerability-Database-VulDB-Vulnerability-ID-2476147.html\n",
      "- https://packetstormsecurity.com/files/172550/Starlabs-Vulnerability-Database-VulDB-Vulnerability-ID-2476148.html\n",
      "- https://packetstormsecurity.com/files/172568/Starlabs-Vulnerability-Database-VulDB-Vulnerability-ID-2476154.html\n",
      "- https://starlabs.sg/exploits/expl\n"
     ]
    }
   ],
   "source": [
    "first_response = extract_first_assistant_response(model_answer)\n",
    "print(first_response)\n"
   ]
  },
  {
   "cell_type": "markdown",
   "metadata": {},
   "source": [
    "Generate answers with the fine-tuned model using the validations set"
   ]
  },
  {
   "cell_type": "code",
   "execution_count": null,
   "metadata": {},
   "outputs": [],
   "source": [
    "import json\n",
    "from transformers import pipeline\n",
    "\n",
    "# Load the JSON file\n",
    "with open('rephrased_data.json', 'r') as file:\n",
    "    data = json.load(file)\n",
    "\n",
    "# Function to generate answer\n",
    "def generate_answer(text):\n",
    "    pipe = pipeline(task=\"text-generation\", model=peft_model, tokenizer=peft_tokenizer, max_length=512)\n",
    "    result = pipe(f\"<HUMAN>: {text}\\n\")\n",
    "    return extract_first_assistant_response(result[0]['generated_text'])\n",
    "\n",
    "# Open the output file\n",
    "with open('model_rephrased_data.json', 'w') as outfile:\n",
    "    outfile.write(\"[\\n\")  # Start of JSON array\n",
    "\n",
    "    for i, item in enumerate(data):\n",
    "        prompt = item['question']\n",
    "        generated_answer = generate_answer(prompt)\n",
    "\n",
    "        # Prepare the new data\n",
    "        new_item = {\n",
    "            \"Question\": item['question'],\n",
    "            \"Model Answer\": generated_answer,\n",
    "            \"True Answer\": item['answer']\n",
    "        }\n",
    "\n",
    "        # Write the new item to the file\n",
    "        json.dump(new_item, outfile, indent=4)\n",
    "\n",
    "        # Add a comma and newline after each new item except the last\n",
    "        if i < len(data) - 1:\n",
    "            outfile.write(\",\\n\")\n",
    "\n",
    "        # Print statements after processing each item\n",
    "        print(f\"Item {i+1}:\")\n",
    "        print(f\"Question: {item['question']}\")\n",
    "        print(f\"Original Answer: {item['answer']}\")\n",
    "        print(f\"Generated Answer: {generated_answer}\")\n",
    "        print(\"\\n\")\n",
    "\n",
    "        outfile.flush()  # Ensure immediate file write\n",
    "\n",
    "    outfile.write(\"\\n]\")  # End of JSON array\n",
    "\n",
    "print(\"New JSON file created with generated answers.\")\n"
   ]
  },
  {
   "cell_type": "markdown",
   "metadata": {},
   "source": [
    "# Generated Answers Distribution"
   ]
  },
  {
   "cell_type": "markdown",
   "metadata": {},
   "source": [
    "Lets find out the tokens used to generate the answers"
   ]
  },
  {
   "cell_type": "code",
   "execution_count": 3,
   "metadata": {},
   "outputs": [
    {
     "name": "stdout",
     "output_type": "stream",
     "text": [
      "Maximum length of 'Question': 264 ( 66 tokens)\n",
      "Maximum length of 'Model Answer': 3042 ( 760 tokens)\n",
      "Maximum length of 'True Answer': 1349 ( 337 tokens)\n",
      "\n",
      "Average number of tokens for 'Question': 19.81\n",
      "Average number of tokens for 'Model Answer': 435.87\n",
      "Average number of tokens for 'True Answer': 75.59\n"
     ]
    }
   ],
   "source": [
    "import json\n",
    "\n",
    "# Read the JSON file\n",
    "try:\n",
    "    with open('Further Json Outputs/model_rephrased_data.json', 'r', encoding='utf-8') as file:\n",
    "        data = json.load(file)\n",
    "\n",
    "    # Initialize variables for maximum lengths and total lengths\n",
    "    max_len_question = max_len_model_answer = max_len_true_answer = 0\n",
    "    total_len_question = total_len_model_answer = total_len_true_answer = 0\n",
    "    count = len(data)\n",
    "\n",
    "    # Iterate through each item in the data\n",
    "    for item in data:\n",
    "        question_len = len(item.get(\"Question\", \"\"))\n",
    "        model_answer_len = len(item.get(\"Model Answer\", \"\"))\n",
    "        true_answer_len = len(item.get(\"True Answer\", \"\"))\n",
    "\n",
    "        # Update maximum lengths\n",
    "        max_len_question = max(max_len_question, question_len)\n",
    "        max_len_model_answer = max(max_len_model_answer, model_answer_len)\n",
    "        max_len_true_answer = max(max_len_true_answer, true_answer_len)\n",
    "\n",
    "        # Sum up total lengths\n",
    "        total_len_question += question_len\n",
    "        total_len_model_answer += model_answer_len\n",
    "        total_len_true_answer += true_answer_len\n",
    "\n",
    "    # Calculate the average lengths\n",
    "    avg_len_question = total_len_question / count\n",
    "    avg_len_model_answer = total_len_model_answer / count\n",
    "    avg_len_true_answer = total_len_true_answer / count\n",
    "\n",
    "    # Calculate the average number of tokens (assuming 1 token = 4 chars)\n",
    "    avg_tokens_question = avg_len_question / 4\n",
    "    avg_tokens_model_answer = avg_len_model_answer / 4\n",
    "    avg_tokens_true_answer = avg_len_true_answer / 4\n",
    "\n",
    "    # Print the maximum lengths and the calculated tokens\n",
    "    print(\"Maximum length of 'Question':\", max_len_question, \"(\", max_len_question // 4, \"tokens)\")\n",
    "    print(\"Maximum length of 'Model Answer':\", max_len_model_answer, \"(\", max_len_model_answer // 4, \"tokens)\")\n",
    "    print(\"Maximum length of 'True Answer':\", max_len_true_answer, \"(\", max_len_true_answer // 4, \"tokens)\")\n",
    "\n",
    "    # Print the average number of tokens for each key\n",
    "    print(\"\\nAverage number of tokens for 'Question':\", round(avg_tokens_question, 2))\n",
    "    print(\"Average number of tokens for 'Model Answer':\", round(avg_tokens_model_answer, 2))\n",
    "    print(\"Average number of tokens for 'True Answer':\", round(avg_tokens_true_answer, 2))\n",
    "\n",
    "except Exception as e:\n",
    "    print(f\"An error occurred: {e}\")\n"
   ]
  },
  {
   "cell_type": "markdown",
   "metadata": {},
   "source": [
    "# Pass Answers to GPT Pipeline"
   ]
  },
  {
   "cell_type": "code",
   "execution_count": 5,
   "metadata": {},
   "outputs": [],
   "source": [
    "from dotenv import load_dotenv\n",
    "from openai import OpenAI\n",
    "import time\n",
    "import os\n",
    "\n",
    "# Load environment variables\n",
    "load_dotenv()\n",
    "\n",
    "def check_answer_with_gpt3(question, model_answer, true_answer):\n",
    "  client = OpenAI(api_key=os.getenv(\"API_KEY\"))\n",
    "\n",
    "  prompt = f'''\n",
    "    \"Question\": \"{question}\",\n",
    "    \"Model Answer\": \"{model_answer}\",\n",
    "    \"True Answer\": \"{true_answer}\"\n",
    "  '''\n",
    "\n",
    "  thread = client.beta.threads.create()\n",
    "  message = client.beta.threads.messages.create(\n",
    "      thread_id=thread.id,\n",
    "      role=\"user\",\n",
    "      content=f\"{prompt}\"\n",
    "  )\n",
    "\n",
    "  run = client.beta.threads.runs.create(\n",
    "    thread_id = thread.id,\n",
    "    assistant_id = os.getenv(\"MODEL_ASSISTANT_ID\"),\n",
    "  )\n",
    "\n",
    "  while run.status != 'completed':\n",
    "    run = client.beta.threads.runs.retrieve(\n",
    "      thread_id=thread.id,\n",
    "      run_id=run.id\n",
    "    )\n",
    "    # print(run.status)\n",
    "    time.sleep(5)\n",
    "\n",
    "  thread_messages = client.beta.threads.messages.list(thread.id)\n",
    "  response_text = thread_messages.data[0].content[0].text.value\n",
    "  return response_text"
   ]
  },
  {
   "cell_type": "code",
   "execution_count": null,
   "metadata": {},
   "outputs": [],
   "source": [
    "import json\n",
    "import threading\n",
    "import time\n",
    "from openai import OpenAI  # Assuming you have this module for GPT-3 interaction\n",
    "\n",
    "def parse_gpt_response(response):\n",
    "    # Initialize default values\n",
    "    parsed_response = {\n",
    "        'GPT-3 Validation': None,\n",
    "        'Confidence Percentage': None,\n",
    "        'Asked for Code in Question': None,\n",
    "        'Code in Answer': None\n",
    "    }\n",
    "\n",
    "    # Splitting the response into segments based on colons\n",
    "    segments = response.split(\":\")\n",
    "    \n",
    "    if len(segments) >= 4:\n",
    "        # Extracting values after each colon\n",
    "        parsed_response['GPT-3 Validation'] = segments[1].split()[0]\n",
    "        parsed_response['Confidence Percentage'] = segments[2].split()[0]\n",
    "        parsed_response['Asked for Code in Question'] = segments[3].split()[0]\n",
    "        parsed_response['Code in Answer'] = segments[4].split()[0] if len(segments) > 4 else None\n",
    "\n",
    "    return parsed_response\n",
    "\n",
    "def get_gpt3_response(question, model_answer, true_answer, response_container):\n",
    "    # Placeholder for GPT-3 interaction function\n",
    "    response_container[\"response\"] = check_answer_with_gpt3(question, model_answer, true_answer)\n",
    "\n",
    "def main():\n",
    "    input_filename = \"Further Json Outputs/model_rephrased_data.json\"\n",
    "    output_filename = \"Further Json Outputs/valued_rephrased_data.json\"\n",
    "\n",
    "    # Variables to control the start and finish of processing\n",
    "    start = 21\n",
    "    finish = -1  # Set to -1 to process until the end\n",
    "\n",
    "    with open(input_filename, 'r') as file:\n",
    "        data = json.load(file)\n",
    "\n",
    "    # Check if the output file already starts with '['\n",
    "    try:\n",
    "        with open(output_filename, 'r') as outfile:\n",
    "            first_char = outfile.read(1)\n",
    "            first_item = first_char != '['\n",
    "    except FileNotFoundError:\n",
    "        first_item = True\n",
    "\n",
    "    # Adjust range of processing based on start and finish\n",
    "    if finish == -1 or finish > len(data):\n",
    "        finish = len(data)\n",
    "\n",
    "    for index in range(start, finish):\n",
    "        item = data[index]\n",
    "        print(f\"Processing item {index}\")\n",
    "\n",
    "        question = item['Question'].strip()\n",
    "        model_answer = item['Model Answer'].strip()\n",
    "        true_answer = item['True Answer'].strip()\n",
    "\n",
    "        # Container for GPT-3 response\n",
    "        gpt3_response_container = {\"response\": None}\n",
    "\n",
    "        # Start thread for GPT-3 response\n",
    "        response_thread = threading.Thread(target=get_gpt3_response, args=(question, model_answer, true_answer, gpt3_response_container))\n",
    "        response_thread.start()\n",
    "        response_thread.join(timeout=15)  # 15-second timeout\n",
    "\n",
    "        # Initialize parsed_response\n",
    "        parsed_response = {\n",
    "            'GPT-3 Validation': None,\n",
    "            'Confidence Percentage': None,\n",
    "            'Asked for Code in Question': None,\n",
    "            'Code in Answer': None\n",
    "        }\n",
    "\n",
    "        if gpt3_response_container[\"response\"] is None:\n",
    "            print(\"GPT-3 response timed out\")\n",
    "            parsed_response = {key: 'Not Available' for key in parsed_response.keys()}\n",
    "        else:\n",
    "            parsed_response = parse_gpt_response(gpt3_response_container[\"response\"])\n",
    "\n",
    "        item.update(parsed_response)\n",
    "\n",
    "        # Write to the JSON file\n",
    "        with open(output_filename, 'a') as outfile:\n",
    "            if first_item:\n",
    "                outfile.write('[' if not first_char == '[' else '')\n",
    "                first_item = False\n",
    "            else:\n",
    "                outfile.write(',')\n",
    "            json.dump(item, outfile, indent=4)\n",
    "        \n",
    "        time.sleep(2)\n",
    "\n",
    "    # Close the JSON array in the file\n",
    "    with open(output_filename, 'a') as outfile:\n",
    "        outfile.write(']')\n",
    "\n",
    "if __name__ == \"__main__\":\n",
    "    main()\n"
   ]
  },
  {
   "cell_type": "markdown",
   "metadata": {},
   "source": [
    "# Data Analysis"
   ]
  },
  {
   "cell_type": "code",
   "execution_count": 19,
   "metadata": {},
   "outputs": [
    {
     "name": "stdout",
     "output_type": "stream",
     "text": [
      "Items with \"GPT-3 Validation\" set to 1: 2847\n",
      "Items with \"GPT-3 Validation\" set to 0: 977\n",
      "Items with both \"Yes\" in \"Asked for Code in Question\" and \"Code in Answer\": 38\n",
      "Items with \"Yes\" in \"Asked for Code in Question\" and \"No\" in \"Code in Answer\": 63\n",
      "Items with \"No\" in \"Asked for Code in Question\" and \"Yes\" in \"Code in Answer\": 21\n",
      "Items with both \"No\" in \"Asked for Code in Question\" and \"Code in Answer\": 3673\n",
      "Items with \"Not Available\" status in either \"Asked for Code in Question\" or \"Code in Answer\": 29\n"
     ]
    }
   ],
   "source": [
    "import json\n",
    "\n",
    "# Function to validate and adjust the confidence percentage\n",
    "def adjust_confidence_percentage(value):\n",
    "    try:\n",
    "        # Attempt to convert the value to an integer\n",
    "        num = int(value)\n",
    "        # Ensure the value is within the 0-100 range\n",
    "        if num > 100:\n",
    "            return 100\n",
    "        elif num < 0:\n",
    "            return 0\n",
    "        else:\n",
    "            return num\n",
    "    except (ValueError, TypeError):\n",
    "        # If conversion fails or value is None, treat it as 0\n",
    "        return 0\n",
    "\n",
    "# Function to validate \"Yes\" or \"No\" answers, treating others as \"Not Available\"\n",
    "def validate_yes_no(value):\n",
    "    if value == \"Yes\" or value == \"No\":\n",
    "        return value\n",
    "    else:\n",
    "        return \"Not Available\"\n",
    "\n",
    "# Step 1: Open and read the file\n",
    "file_path = \"Further Json Outputs/valued_rephrased_data.json\"\n",
    "with open(file_path, 'r') as file:\n",
    "    data = json.load(file)\n",
    "\n",
    "# Variables to keep track of statistics\n",
    "gpt3_validation_1_count = 0\n",
    "gpt3_validation_0_count = 0\n",
    "yes_yes_count = 0\n",
    "yes_no_count = 0\n",
    "no_yes_count = 0\n",
    "no_no_count = 0\n",
    "not_available_count = 0  # Counter for \"Not Available\" cases\n",
    "\n",
    "# Step 2 and 3: Adjust logic for \"GPT-3 Validation\" and calculate statistics\n",
    "for item in data:\n",
    "    # Adjust \"Confidence Percentage\" and check if it's >= 50\n",
    "    adjusted_confidence_percentage = adjust_confidence_percentage(item[\"Confidence Percentage\"])\n",
    "    \n",
    "    if adjusted_confidence_percentage >= 50:\n",
    "        adjusted_gpt3_validation = \"1\"\n",
    "    else:\n",
    "        adjusted_gpt3_validation = \"0\"\n",
    "    \n",
    "    # Count items based on adjusted \"GPT-3 Validation\"\n",
    "    if adjusted_gpt3_validation == \"1\":\n",
    "        gpt3_validation_1_count += 1\n",
    "    elif adjusted_gpt3_validation == \"0\":\n",
    "        gpt3_validation_0_count += 1\n",
    "    \n",
    "    # Validate and count combinations of \"Asked for Code in Question\" and \"Code in Answer\"\n",
    "    asked_for_code = validate_yes_no(item[\"Asked for Code in Question\"])\n",
    "    code_in_answer = validate_yes_no(item[\"Code in Answer\"])\n",
    "    \n",
    "    if asked_for_code == \"Yes\" and code_in_answer == \"Yes\":\n",
    "        yes_yes_count += 1\n",
    "    elif asked_for_code == \"Yes\" and code_in_answer == \"No\":\n",
    "        yes_no_count += 1\n",
    "    elif asked_for_code == \"No\" and code_in_answer == \"Yes\":\n",
    "        no_yes_count += 1\n",
    "    elif asked_for_code == \"No\" and code_in_answer == \"No\":\n",
    "        no_no_count += 1\n",
    "    else:\n",
    "        not_available_count += 1  # Increment for any \"Not Available\" scenario\n",
    "\n",
    "# Print the statistics\n",
    "print(f'Items with \"GPT-3 Validation\" set to 1: {gpt3_validation_1_count}')\n",
    "print(f'Items with \"GPT-3 Validation\" set to 0: {gpt3_validation_0_count}')\n",
    "print(f'Items with both \"Yes\" in \"Asked for Code in Question\" and \"Code in Answer\": {yes_yes_count}')\n",
    "print(f'Items with \"Yes\" in \"Asked for Code in Question\" and \"No\" in \"Code in Answer\": {yes_no_count}')\n",
    "print(f'Items with \"No\" in \"Asked for Code in Question\" and \"Yes\" in \"Code in Answer\": {no_yes_count}')\n",
    "print(f'Items with both \"No\" in \"Asked for Code in Question\" and \"Code in Answer\": {no_no_count}')\n",
    "print(f'Items with \"Not Available\" status in either \"Asked for Code in Question\" or \"Code in Answer\": {not_available_count}')\n"
   ]
  },
  {
   "cell_type": "code",
   "execution_count": 35,
   "metadata": {},
   "outputs": [
    {
     "data": {
      "image/png": "[encoded data removed]",
      "text/plain": [
       "<Figure size 800x800 with 1 Axes>"
      ]
     },
     "metadata": {},
     "output_type": "display_data"
    }
   ],
   "source": [
    "import matplotlib.pyplot as plt\n",
    "\n",
    "# Increase font sizes globally\n",
    "plt.rcParams.update({'font.size': 14,  # Adjust base font size as needed\n",
    "                     'axes.titlesize': 18,  # Adjust for title\n",
    "                     'axes.labelsize': 16,  # Adjust for x and y labels\n",
    "                     'xtick.labelsize': 14,  # Adjust for x-axis tick labels\n",
    "                     'ytick.labelsize': 14,  # Adjust for y-axis tick labels\n",
    "                     'legend.fontsize': 14})  # Adjust for legend\n",
    "\n",
    "# Data for the pie chart\n",
    "sizes_asked_yes = [yes_yes_count, (104-yes_yes_count)]\n",
    "labels_asked_yes = ['Code Generated', 'Code Not Generated']\n",
    "\n",
    "# Custom autopct function to include both percentage and count with more vertical spacing\n",
    "def autopct_format(values):\n",
    "    def my_format(pct):\n",
    "        total = sum(values)\n",
    "        val = int(round(pct*total/100.0))\n",
    "        # Adjust the vertical spacing with \\n\\n for more space\n",
    "        return '{p:.1f}%\\n\\n{v:d} answers'.format(p=pct, v=val)\n",
    "    return my_format\n",
    "\n",
    "# Improved Pie Chart\n",
    "plt.figure(figsize=(8, 8))\n",
    "explode = (0.1, 0)  # Explode the 'Code Generated' slice slightly to draw attention to it\n",
    "plt.pie(sizes_asked_yes, labels=labels_asked_yes, autopct=autopct_format(sizes_asked_yes), startangle=90, colors=['lightgreen', 'tomato'], explode=explode, shadow=True, textprops={'fontsize': 14})\n",
    "plt.title('Distribution of Code Examples', fontweight='normal')\n",
    "plt.tight_layout()  # Adjusts subplots to fit in the figure area.\n",
    "plt.show()\n"
   ]
  },
  {
   "cell_type": "code",
   "execution_count": 21,
   "metadata": {},
   "outputs": [
    {
     "name": "stdout",
     "output_type": "stream",
     "text": [
      "Average \"Confidence Percentage\" across the dataset: 72.71%\n"
     ]
    }
   ],
   "source": [
    "import json\n",
    "\n",
    "# Assuming the file path is still valid\n",
    "file_path = \"Further Json Outputs/valued_rephrased_data.json\"\n",
    "\n",
    "# Re-read the data\n",
    "with open(file_path, 'r') as file:\n",
    "    data = json.load(file)\n",
    "\n",
    "# Initialize the sum and count for calculating the average\n",
    "total_confidence_percentage = 0\n",
    "count_valid_percentages = 0\n",
    "\n",
    "# Iterate through each item to sum up and count valid \"Confidence Percentage\" values\n",
    "for item in data:\n",
    "    adjusted_percentage = adjust_confidence_percentage(item[\"Confidence Percentage\"])\n",
    "    total_confidence_percentage += adjusted_percentage\n",
    "    count_valid_percentages += 1  # Increment for every item, since we adjust invalid values to 0\n",
    "\n",
    "# Calculate the average, ensuring we don't divide by zero\n",
    "average_confidence_percentage = (total_confidence_percentage / count_valid_percentages) if count_valid_percentages > 0 else 0\n",
    "\n",
    "# Print the average \"Confidence Percentage\"\n",
    "print(f'Average \"Confidence Percentage\" across the dataset: {average_confidence_percentage:.2f}%')"
   ]
  },
  {
   "cell_type": "code",
   "execution_count": 22,
   "metadata": {},
   "outputs": [
    {
     "name": "stdout",
     "output_type": "stream",
     "text": [
      "Low Threshold (25th percentile): 45.0%\n",
      "Medium Threshold (50th percentile, Median): 100.0%\n",
      "High Threshold (75th percentile): 100.0%\n",
      "Count of Low \"Confidence Percentage\": 971\n",
      "Count of Medium \"Confidence Percentage\": 2853\n",
      "Count of High \"Confidence Percentage\": 0\n"
     ]
    }
   ],
   "source": [
    "import numpy as np\n",
    "\n",
    "# Assuming you have re-read the data and have the 'adjust_confidence_percentage' function ready\n",
    "# Extract all valid \"Confidence Percentage\" values as a list\n",
    "confidence_percentages = [adjust_confidence_percentage(item[\"Confidence Percentage\"]) for item in data]\n",
    "\n",
    "# Calculate percentiles\n",
    "low_threshold = np.percentile(confidence_percentages, 25)\n",
    "medium_threshold = np.percentile(confidence_percentages, 50)  # This is essentially the median\n",
    "high_threshold = np.percentile(confidence_percentages, 75)\n",
    "\n",
    "# Now, categorize the values based on these thresholds\n",
    "low_count = len([x for x in confidence_percentages if x <= low_threshold])\n",
    "medium_count = len([x for x in confidence_percentages if low_threshold < x <= medium_threshold])\n",
    "high_count = len([x for x in confidence_percentages if x > medium_threshold])  # This includes values above the high_threshold\n",
    "\n",
    "# Print the thresholds and counts\n",
    "print(f'Low Threshold (25th percentile): {low_threshold}%')\n",
    "print(f'Medium Threshold (50th percentile, Median): {medium_threshold}%')\n",
    "print(f'High Threshold (75th percentile): {high_threshold}%')\n",
    "print(f'Count of Low \"Confidence Percentage\": {low_count}')\n",
    "print(f'Count of Medium \"Confidence Percentage\": {medium_count}')\n",
    "print(f'Count of High \"Confidence Percentage\": {high_count}')"
   ]
  },
  {
   "cell_type": "code",
   "execution_count": 23,
   "metadata": {},
   "outputs": [
    {
     "name": "stdout",
     "output_type": "stream",
     "text": [
      "Confidence Percentage 0% to 10%: 325 answers\n",
      "Confidence Percentage 10% to 20%: 120 answers\n",
      "Confidence Percentage 20% to 30%: 203 answers\n",
      "Confidence Percentage 30% to 40%: 146 answers\n",
      "Confidence Percentage 40% to 50%: 183 answers\n",
      "Confidence Percentage 50% to 60%: 161 answers\n",
      "Confidence Percentage 60% to 70%: 206 answers\n",
      "Confidence Percentage 70% to 80%: 212 answers\n",
      "Confidence Percentage 80% to 90%: 137 answers\n",
      "Confidence Percentage 90% to 100%: 2131 answers\n"
     ]
    }
   ],
   "source": [
    "import numpy as np\n",
    "\n",
    "# Calculate histogram bins and counts\n",
    "bin_edges = np.linspace(0, 100, 11)  # Define 10 bins from 0 to 100\n",
    "hist_counts, _ = np.histogram(confidence_percentages, bins=bin_edges)\n",
    "\n",
    "# Print the counts for each bin\n",
    "for i in range(len(bin_edges)-1):\n",
    "    print(f'Confidence Percentage {bin_edges[i]:.0f}% to {bin_edges[i+1]:.0f}%: {hist_counts[i]} answers')\n"
   ]
  },
  {
   "cell_type": "code",
   "execution_count": 24,
   "metadata": {},
   "outputs": [
    {
     "data": {
      "image/png": "[encoded data removed]",
      "text/plain": [
       "<Figure size 1000x600 with 1 Axes>"
      ]
     },
     "metadata": {},
     "output_type": "display_data"
    }
   ],
   "source": [
    "import matplotlib.pyplot as plt\n",
    "import numpy as np\n",
    "\n",
    "# Increase font sizes globally\n",
    "plt.rcParams.update({'font.size': 13,  # Adjust base font size as needed\n",
    "                     'axes.titlesize': 18,  # Adjust for title\n",
    "                     'axes.labelsize': 16,  # Adjust for x and y labels\n",
    "                     'xtick.labelsize': 14,  # Adjust for x-axis tick labels\n",
    "                     'ytick.labelsize': 14,  # Adjust for y-axis tick labels\n",
    "                     'legend.fontsize': 14})  # Adjust for legend\n",
    "                     \n",
    "\n",
    "plt.figure(figsize=(10, 6))\n",
    "n, bins, patches = plt.hist(confidence_percentages, bins=10, color='skyblue', edgecolor='black', alpha=1 ,zorder=3)\n",
    "\n",
    "# Calculate the center of each bin\n",
    "bin_centers = 0.5 * (bins[:-1] + bins[1:])\n",
    "\n",
    "# Increase the spacing value here, for example to 10 or more, to increase spacing between bars and numbers\n",
    "spacing = 25  # Adjust this value to increase or decrease the spacing\n",
    "\n",
    "# Add text for the label in the center of each bin with increased spacing\n",
    "for count, x in zip(n, bin_centers):\n",
    "    if count > 0:\n",
    "        plt.text(x, count + spacing, str(int(count)), ha='center')\n",
    "\n",
    "plt.title('Distribution of Confidence Percentage', fontweight='normal', pad=10)\n",
    "plt.xlabel('Confidence Percentage (%)', labelpad=8)\n",
    "plt.ylabel('Frequency', labelpad=8)\n",
    "plt.xticks(range(0, 101, 10))\n",
    "plt.yticks(range(0, max(2750, max(n) + 100), max(250, (max(n) + 100)//10)))\n",
    "\n",
    "plt.grid(axis='y', alpha=0.75, zorder=0)\n",
    "plt.tight_layout()\n",
    "plt.show()\n"
   ]
  },
  {
   "cell_type": "code",
   "execution_count": 25,
   "metadata": {},
   "outputs": [
    {
     "data": {
      "image/png": "[encoded data removed]",
      "text/plain": [
       "<Figure size 800x800 with 1 Axes>"
      ]
     },
     "metadata": {},
     "output_type": "display_data"
    }
   ],
   "source": [
    "import matplotlib.pyplot as plt\n",
    "\n",
    "# # Assuming gpt3_validation_0_count and gpt3_validation_1_count are defined somewhere in your code\n",
    "# gpt3_validation_0_count = 1200  # Example value\n",
    "# gpt3_validation_1_count = 2800  # Example value\n",
    "\n",
    "# Increase font sizes globally\n",
    "plt.rcParams.update({'font.size': 16,  # Adjust base font size as needed\n",
    "                     'axes.titlesize': 20,  # Adjust for title\n",
    "                     'axes.labelsize': 18,  # Adjust for x and y labels\n",
    "                     'xtick.labelsize': 16,  # Adjust for x-axis tick labels\n",
    "                     'ytick.labelsize': 16,  # Adjust for y-axis tick labels\n",
    "                     'legend.fontsize': 14})  # Adjust for legend\n",
    "\n",
    "# Data for plotting\n",
    "gpt3_validation_counts = [gpt3_validation_0_count, gpt3_validation_1_count]\n",
    "gpt3_labels = ['Incorrect', 'Correct']  # Use more descriptive labels\n",
    "\n",
    "# Custom autopct function to include both percentage and count with more vertical spacing\n",
    "def autopct_format(values):\n",
    "    def my_format(pct):\n",
    "        total = sum(values)\n",
    "        val = int(round(pct*total/100.0))\n",
    "        # Adjust the vertical spacing with \\n\\n for more space\n",
    "        return '{p:.1f}%\\n\\n{v:d} answers'.format(p=pct, v=val)\n",
    "    return my_format\n",
    "\n",
    "# Improved Pie Chart\n",
    "plt.figure(figsize=(8, 8))\n",
    "explode = (0, 0.1)  # Only explode the 'Correct' slice\n",
    "plt.pie(gpt3_validation_counts, labels=gpt3_labels, autopct=autopct_format(gpt3_validation_counts), startangle=140, colors=['tomato', 'lightgreen'], explode=explode, shadow=True, textprops={'fontsize': 16})\n",
    "plt.title('Accuracy Distribution', fontweight='normal')\n",
    "plt.tight_layout()  # Adjusts subplots to fit in the figure area.\n",
    "plt.show()\n"
   ]
  }
 ],
 "metadata": {
  "kernelspec": {
   "display_name": "manual_py_3_8_env",
   "language": "python",
   "name": "python3"
  },
  "language_info": {
   "codemirror_mode": {
    "name": "ipython",
    "version": 3
   },
   "file_extension": ".py",
   "mimetype": "text/x-python",
   "name": "python",
   "nbconvert_exporter": "python",
   "pygments_lexer": "ipython3",
   "version": "3.8.10"
  }
 },
 "nbformat": 4,
 "nbformat_minor": 2
}
