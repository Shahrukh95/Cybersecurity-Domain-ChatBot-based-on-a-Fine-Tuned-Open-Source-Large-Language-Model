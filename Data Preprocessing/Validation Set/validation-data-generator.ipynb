{
 "cells": [
  {
   "cell_type": "markdown",
   "metadata": {},
   "source": [
    "GET 20% OF ALL DOMAINS"
   ]
  },
  {
   "cell_type": "code",
   "execution_count": 1,
   "metadata": {},
   "outputs": [
    {
     "name": "stdout",
     "output_type": "stream",
     "text": [
      "Processing complete.\n"
     ]
    }
   ],
   "source": [
    "import os\n",
    "import pandas as pd\n",
    "import random\n",
    "\n",
    "def randomly_select_rows(file_path, fraction=0.2):\n",
    "    # Read the Excel file\n",
    "    df = pd.read_excel(file_path, usecols=[0, 1])\n",
    "\n",
    "    # Calculate the number of rows to select\n",
    "    num_rows = len(df)\n",
    "    num_to_select = int(num_rows * fraction)\n",
    "\n",
    "    # Randomly select rows\n",
    "    selected_rows = df.sample(n=num_to_select)\n",
    "\n",
    "    return selected_rows\n",
    "\n",
    "def main():\n",
    "    input_folder = 'CVEs Divided'\n",
    "    output_folder = 'Output'\n",
    "\n",
    "    # Create output folder if it doesn't exist\n",
    "    if not os.path.exists(output_folder):\n",
    "        os.makedirs(output_folder)\n",
    "\n",
    "    # Process each xlsx file in the input folder\n",
    "    for file in os.listdir(input_folder):\n",
    "        if file.endswith('.xlsx'):\n",
    "            file_path = os.path.join(input_folder, file)\n",
    "            \n",
    "            # # Check for special cases\n",
    "            # if file in ['OWASP API.xlsx', 'OWASP Mobile.xlsx']:\n",
    "            #     fraction = 0.1  # 10% for these specific files\n",
    "            # else:\n",
    "            #     fraction = 0.2  # Default is 20%\n",
    "            fraction = 0.2\n",
    "\n",
    "            selected_data = randomly_select_rows(file_path, fraction=fraction)\n",
    "\n",
    "            # Save the selected data into the output folder\n",
    "            output_file_path = os.path.join(output_folder, file)\n",
    "            selected_data.to_excel(output_file_path, index=False)\n",
    "\n",
    "    print(\"Processing complete.\")\n",
    "\n",
    "if __name__ == \"__main__\":\n",
    "    main()\n"
   ]
  },
  {
   "cell_type": "markdown",
   "metadata": {},
   "source": [
    "Numbers of Rows Taken"
   ]
  },
  {
   "cell_type": "code",
   "execution_count": 2,
   "metadata": {},
   "outputs": [
    {
     "name": "stdout",
     "output_type": "stream",
     "text": [
      "'Windows.xlsx': 897 rows (Original: 4488, 19.99% of original)\n",
      "'Android.xlsx': 1010 rows (Original: 5054, 19.98% of original)\n",
      "'OWASP Mobile.xlsx': 22 rows (Original: 111, 19.82% of original)\n",
      "'Web Servers.xlsx': 940 rows (Original: 4704, 19.98% of original)\n",
      "'OWASP API.xlsx': 32 rows (Original: 162, 19.75% of original)\n",
      "'Database.xlsx': 923 rows (Original: 4615, 20.00% of original)\n",
      "\n",
      "Total number of rows in all output files: 3824 (Original: 19134, 19.99% of original)\n"
     ]
    }
   ],
   "source": [
    "import os\n",
    "import pandas as pd\n",
    "\n",
    "def count_rows_in_excel(file_path):\n",
    "    # Read the Excel file\n",
    "    df = pd.read_excel(file_path)\n",
    "    return len(df)\n",
    "\n",
    "def main():\n",
    "    input_folder = 'CVEs Divided'\n",
    "    output_folder = 'Output'\n",
    "    total_rows_output = 0\n",
    "    total_rows_input = 0\n",
    "\n",
    "    # Check if the folders exist\n",
    "    if not os.path.exists(input_folder) or not os.path.exists(output_folder):\n",
    "        print(\"One or both of the folders do not exist.\")\n",
    "        return\n",
    "\n",
    "    # Iterate over each file in the output folder\n",
    "    for file in os.listdir(output_folder):\n",
    "        if file.endswith('.xlsx'):\n",
    "            output_file_path = os.path.join(output_folder, file)\n",
    "            input_file_path = os.path.join(input_folder, file)\n",
    "\n",
    "            rows_count_output = count_rows_in_excel(output_file_path)\n",
    "            total_rows_output += rows_count_output\n",
    "\n",
    "            if os.path.exists(input_file_path):\n",
    "                rows_count_input = count_rows_in_excel(input_file_path)\n",
    "                total_rows_input += rows_count_input\n",
    "                percentage = (rows_count_output / rows_count_input) * 100\n",
    "                print(f\"'{file}': {rows_count_output} rows (Original: {rows_count_input}, {percentage:.2f}% of original)\")\n",
    "            else:\n",
    "                print(f\"'{file}': {rows_count_output} rows (Original file not found)\")\n",
    "\n",
    "    if total_rows_input > 0:\n",
    "        total_percentage = (total_rows_output / total_rows_input) * 100\n",
    "        print(f\"\\nTotal number of rows in all output files: {total_rows_output} (Original: {total_rows_input}, {total_percentage:.2f}% of original)\")\n",
    "    else:\n",
    "        print(\"\\nNo original data to compare with.\")\n",
    "\n",
    "if __name__ == \"__main__\":\n",
    "    main()\n"
   ]
  }
 ],
 "metadata": {
  "kernelspec": {
   "display_name": "validation-env",
   "language": "python",
   "name": "python3"
  },
  "language_info": {
   "codemirror_mode": {
    "name": "ipython",
    "version": 3
   },
   "file_extension": ".py",
   "mimetype": "text/x-python",
   "name": "python",
   "nbconvert_exporter": "python",
   "pygments_lexer": "ipython3",
   "version": "3.11.5"
  }
 },
 "nbformat": 4,
 "nbformat_minor": 2
}
